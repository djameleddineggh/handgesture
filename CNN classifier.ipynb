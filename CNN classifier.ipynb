{
 "cells": [
  {
   "cell_type": "code",
   "execution_count": 9,
   "metadata": {},
   "outputs": [],
   "source": [
    "from __future__ import absolute_import, division, print_function, unicode_literals\n",
    "import matplotlib.pyplot as plt\n",
    "import os\n",
    "import random \n",
    "import numpy as np\n",
    "import cv2\n",
    "\n",
    "\n",
    "datadir='C:/Users/djamel eddine/Desktop/py/handgest1'\n",
    "categories=[\"digit1\",\"digit1p\",\"digit2\",\"digit2p\",\"digit3\",\"digit3p\",\"digit4\",\"digit4p\",\"digit5\",\"pince1\"]\n",
    "\n",
    "\n",
    "img_size=224\n",
    "training_data=[]\n",
    "def creat_train_data():\n",
    "    for c in categories:\n",
    "        try:  \n",
    "            path=os.path.join(datadir,c)\n",
    "            class_num=categories.index(c)\n",
    "            for img in os.listdir(path): \n",
    "                img_array=cv2.imread(os.path.join(path,img))   \n",
    "                img_array= cv2.cvtColor(img_array, cv2.COLOR_BGR2GRAY)\n",
    "                #_,img_array=cv2.threshold(img_array,0,255,cv2.THRESH_BINARY+cv2.THRESH_OTSU+cv2.ADAPTIVE_THRESH_GAUSSIAN_C)\n",
    "                new_array=cv2.resize(img_array,(img_size,img_size))  \n",
    "                training_data.append([new_array,class_num])\n",
    "                #plt.imshow(img_array)\n",
    "        except Exception as e:\n",
    "         pass\n",
    "    \n",
    "creat_train_data() \n",
    "\n",
    "random.shuffle(training_data)\n",
    "\n",
    "x1,y1=[],[]\n",
    "\n",
    "for features,label in training_data:\n",
    "    x1.append(features)\n",
    "    y1.append(label)\n",
    "    \n",
    "x1=np.array(x1).reshape(-1,img_size,img_size,1)  \n",
    "y1=np.asarray(y1)    \n",
    "#x1=x1.astype('float64')\n",
    "x1=x1/255.\n",
    "\n",
    "\n"
   ]
  },
  {
   "cell_type": "code",
   "execution_count": null,
   "metadata": {},
   "outputs": [],
   "source": [
    "len(x1)"
   ]
  },
  {
   "cell_type": "code",
   "execution_count": 10,
   "metadata": {},
   "outputs": [],
   "source": [
    "import pickle\n",
    "pickle_out=open(\"xbnw.pickle\",\"wb\")\n",
    "pickle.dump(x1,pickle_out)\n",
    "pickle_out.close()\n",
    "pickle_out=open(\"ybnw.pickle\",\"wb\")\n",
    "pickle.dump(y1,pickle_out)\n",
    "pickle_out.close()\n"
   ]
  },
  {
   "cell_type": "code",
   "execution_count": 14,
   "metadata": {},
   "outputs": [
    {
     "name": "stdout",
     "output_type": "stream",
     "text": [
      "Model: \"sequential_2\"\n",
      "_________________________________________________________________\n",
      "Layer (type)                 Output Shape              Param #   \n",
      "=================================================================\n",
      "conv2d_12 (Conv2D)           (None, 222, 222, 128)     1280      \n",
      "_________________________________________________________________\n",
      "max_pooling2d_12 (MaxPooling (None, 111, 111, 128)     0         \n",
      "_________________________________________________________________\n",
      "conv2d_13 (Conv2D)           (None, 109, 109, 128)     147584    \n",
      "_________________________________________________________________\n",
      "max_pooling2d_13 (MaxPooling (None, 54, 54, 128)       0         \n",
      "_________________________________________________________________\n",
      "conv2d_14 (Conv2D)           (None, 52, 52, 128)       147584    \n",
      "_________________________________________________________________\n",
      "max_pooling2d_14 (MaxPooling (None, 26, 26, 128)       0         \n",
      "_________________________________________________________________\n",
      "conv2d_15 (Conv2D)           (None, 24, 24, 128)       147584    \n",
      "_________________________________________________________________\n",
      "max_pooling2d_15 (MaxPooling (None, 12, 12, 128)       0         \n",
      "_________________________________________________________________\n",
      "conv2d_16 (Conv2D)           (None, 10, 10, 128)       147584    \n",
      "_________________________________________________________________\n",
      "max_pooling2d_16 (MaxPooling (None, 5, 5, 128)         0         \n",
      "_________________________________________________________________\n",
      "conv2d_17 (Conv2D)           (None, 3, 3, 128)         147584    \n",
      "_________________________________________________________________\n",
      "max_pooling2d_17 (MaxPooling (None, 1, 1, 128)         0         \n",
      "_________________________________________________________________\n",
      "flatten_2 (Flatten)          (None, 128)               0         \n",
      "_________________________________________________________________\n",
      "dropout_2 (Dropout)          (None, 128)               0         \n",
      "_________________________________________________________________\n",
      "dense_4 (Dense)              (None, 128)               16512     \n",
      "_________________________________________________________________\n",
      "dense_5 (Dense)              (None, 10)                1290      \n",
      "=================================================================\n",
      "Total params: 757,002\n",
      "Trainable params: 757,002\n",
      "Non-trainable params: 0\n",
      "_________________________________________________________________\n",
      "Train on 1762 samples, validate on 756 samples\n",
      "Epoch 1/5\n",
      "1762/1762 [==============================] - 380s 216ms/sample - loss: 1.8219 - accuracy: 0.3689 - val_loss: 1.1849 - val_accuracy: 0.6190\n",
      "Epoch 2/5\n",
      "1762/1762 [==============================] - 395s 224ms/sample - loss: 0.9020 - accuracy: 0.6958 - val_loss: 0.4885 - val_accuracy: 0.8294\n",
      "Epoch 3/5\n",
      "1762/1762 [==============================] - 396s 225ms/sample - loss: 16.3999 - accuracy: 0.5868 - val_loss: 0.5848 - val_accuracy: 0.7685\n",
      "Epoch 4/5\n",
      "1762/1762 [==============================] - 373s 211ms/sample - loss: 0.4838 - accuracy: 0.8229 - val_loss: 0.3832 - val_accuracy: 0.8545\n",
      "Epoch 5/5\n",
      "1762/1762 [==============================] - 384s 218ms/sample - loss: 0.3529 - accuracy: 0.8700 - val_loss: 0.3207 - val_accuracy: 0.8836\n"
     ]
    },
    {
     "data": {
      "text/plain": [
       "<tensorflow.python.keras.callbacks.History at 0x1e3298e4308>"
      ]
     },
     "execution_count": 14,
     "metadata": {},
     "output_type": "execute_result"
    }
   ],
   "source": [
    "import tensorflow as tf\n",
    "from tensorflow.keras import datasets, layers, models\n",
    "from tensorflow.keras.preprocessing.image import ImageDataGenerator\n",
    "from tensorflow.keras.optimizers import RMSprop\n",
    "from tensorflow.keras.models import Sequential\n",
    "from tensorflow.keras.layers import Dense,Dropout,Activation,Flatten,Conv2D,MaxPooling2D\n",
    "from tensorflow.keras.callbacks import TensorBoard\n",
    "import time\n",
    "import pickle\n",
    "\n",
    "name=\"{}-layers1-{}-nodes1-{}-dens1-{}\".format(3,13,2,int(time.time()))    \n",
    "tb=TensorBoard(log_dir='logsbnw\\{}'.format(name)) \n",
    "img_size=224\n",
    "\n",
    "#x1=pickle.load(open(\"xbnw.pickle\",\"rb\"))\n",
    "#y1=pickle.load(open(\"ybnw.pickle\",\"rb\"))\n",
    "\n",
    "model1=tf.keras.models.Sequential([\n",
    "\n",
    "    tf.keras.layers.Conv2D(128,(3,3),activation='linear',input_shape=(img_size,img_size,1)),\n",
    "    tf.keras.layers.MaxPooling2D(2,2),\n",
    "    tf.keras.layers.Conv2D(128,(3,3),activation='linear'),\n",
    "    tf.keras.layers.MaxPooling2D(2,2),\n",
    "    tf.keras.layers.Conv2D(128,(3,3),activation='linear'),\n",
    "    tf.keras.layers.MaxPooling2D(2,2),\n",
    "    tf.keras.layers.Conv2D(128,(3,3),activation='linear'),\n",
    "    tf.keras.layers.MaxPooling2D(2,2),\n",
    "    tf.keras.layers.Conv2D(128,(3,3),activation='linear'),\n",
    "    tf.keras.layers.MaxPooling2D(2,2),\n",
    "    tf.keras.layers.Conv2D(128,(3,3),activation='linear'),\n",
    "    tf.keras.layers.MaxPooling2D(2,2),\n",
    "    tf.keras.layers.Flatten(),\n",
    "    tf.keras.layers.Dropout(0.3),\n",
    "    tf.keras.layers.Dense(128,activation='linear'),\n",
    "    tf.keras.layers.Dense(10,activation='softmax')\n",
    "    \n",
    "])\n",
    "model1.summary()\n",
    "\n",
    "model1.compile(loss='sparse_categorical_crossentropy', optimizer=\"adam\", metrics=['accuracy'])\n",
    "model1.fit(x1,y1,batch_size=5,epochs=5,validation_split=0.3,callbacks=[tb])\n"
   ]
  },
  {
   "cell_type": "code",
   "execution_count": null,
   "metadata": {},
   "outputs": [],
   "source": []
  },
  {
   "cell_type": "code",
   "execution_count": 16,
   "metadata": {},
   "outputs": [
    {
     "name": "stdout",
     "output_type": "stream",
     "text": [
      "WARNING:tensorflow:From c:\\users\\djamel eddine\\appdata\\local\\programs\\python\\python37\\lib\\site-packages\\tensorflow_core\\python\\ops\\resource_variable_ops.py:1786: calling BaseResourceVariable.__init__ (from tensorflow.python.ops.resource_variable_ops) with constraint is deprecated and will be removed in a future version.\n",
      "Instructions for updating:\n",
      "If using Keras pass *_constraint arguments to layers.\n",
      "INFO:tensorflow:Assets written to: mymodel10digit.model\\assets\n"
     ]
    }
   ],
   "source": [
    "model1.save('mymodel10digit.model')"
   ]
  },
  {
   "cell_type": "code",
   "execution_count": 3,
   "metadata": {},
   "outputs": [
    {
     "data": {
      "image/png": "[encoded data removed]",
      "text/plain": [
       "<Figure size 720x720 with 2 Axes>"
      ]
     },
     "metadata": {
      "needs_background": "light"
     },
     "output_type": "display_data"
    }
   ],
   "source": [
    "import numpy as np\n",
    "import cv2\n",
    "import os\n",
    "import matplotlib.pyplot as plt\n",
    "import tensorflow as tf\n",
    "import pandas as pd\n",
    "import seaborn as sn\n",
    "from sklearn.metrics import plot_confusion_matrix\n",
    "\n",
    "\n",
    "model1=tf.keras.models.load_model('mymodel10digit.model')\n",
    "#direc=\"C:/Users/djamel eddine/Desktop/py/testing1\"\n",
    "direc=\"C:/Users/djamel eddine/Desktop/py-project/class/Nouveau dossier\"\n",
    "img_size=224\n",
    "test_image,test_label,prediction_array=[],[],[]\n",
    "categories=[\"digit1\",\"digit1p\",\"digit2\",\"digit2p\",\"digit3\",\"digit3p\",\"digit4\",\"digit4p\",\"digit5\",\"pince1\"]\n",
    "test_label=[0,1,2,3,4,5,6,7,8,8,8,9]\n",
    "                \n",
    "\n",
    "for img in os.listdir(direc): \n",
    "        img_array=cv2.imread(os.path.join(direc,img)) \n",
    "        img_array= cv2.cvtColor(img_array, cv2.COLOR_BGR2GRAY)\n",
    "        #img_array =cv2.rotate(img_array,cv2.ROTATE_180)\n",
    "        #_,img_array=cv2.threshold(img_array,0,255,cv2.THRESH_BINARY+cv2.THRESH_OTSU+cv2.ADAPTIVE_THRESH_GAUSSIAN_C)\n",
    "        new_array=cv2.resize(img_array,(img_size,img_size))\n",
    "        #test_image.append(new_array)\n",
    "        new_array= new_array.reshape(-1,img_size,img_size,1)\n",
    "        prediction=model1.predict([new_array])\n",
    "        prediction_array.append(np.argmax(prediction))\n",
    "        \n",
    "        \n",
    "     \n",
    "\n",
    "\n",
    "\n",
    "\n",
    "\n",
    "con_mat=tf.math.confusion_matrix(test_label,prediction_array)\n",
    "figure = plt.figure(figsize=(10, 10)) \n",
    "xticklabels,yticklabels=[],[]\n",
    "for c in categories :\n",
    "    xticklabels.append('{}'.format(c))\n",
    "    yticklabels.append('{}'.format(c))\n",
    "    \n",
    "sn.set(font_scale=1.5)\n",
    "hm=sn.heatmap(con_mat,annot=True,xticklabels=xticklabels, yticklabels=yticklabels,cmap=\"OrRd\")\n",
    "hm.set_yticklabels(hm.get_yticklabels(), rotation=0)\n",
    "hm.set_xticklabels(hm.get_xticklabels(), rotation=90)\n",
    "plt.tight_layout()\n",
    "plt.title(\"confusion matrix CNN\")\n",
    "plt.xlabel('model_Prediction')\n",
    "plt.ylabel('true_predection')\n",
    "plt.show()              \n",
    "\n"
   ]
  },
  {
   "cell_type": "code",
   "execution_count": null,
   "metadata": {},
   "outputs": [],
   "source": []
  },
  {
   "cell_type": "code",
   "execution_count": null,
   "metadata": {},
   "outputs": [],
   "source": []
  },
  {
   "cell_type": "code",
   "execution_count": null,
   "metadata": {},
   "outputs": [],
   "source": []
  },
  {
   "cell_type": "code",
   "execution_count": null,
   "metadata": {},
   "outputs": [],
   "source": []
  }
 ],
 "metadata": {
  "kernelspec": {
   "display_name": "Python 3 (ipykernel)",
   "language": "python",
   "name": "python3"
  },
  "language_info": {
   "codemirror_mode": {
    "name": "ipython",
    "version": 3
   },
   "file_extension": ".py",
   "mimetype": "text/x-python",
   "name": "python",
   "nbconvert_exporter": "python",
   "pygments_lexer": "ipython3",
   "version": "3.9.6"
  }
 },
 "nbformat": 4,
 "nbformat_minor": 4
}
